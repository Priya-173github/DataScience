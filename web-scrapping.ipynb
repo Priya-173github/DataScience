{
 "cells": [
  {
   "cell_type": "code",
   "execution_count": 1,
   "id": "238f74d0-787c-431a-8494-4ccfeb1a0acd",
   "metadata": {},
   "outputs": [],
   "source": [
    "import time\n",
    "from selenium import webdriver\n",
    "from bs4 import BeautifulSoup\n",
    "import xlsxwriter\n",
    "from selenium.webdriver.chrome.service import Service"
   ]
  },
  {
   "cell_type": "code",
   "execution_count": 2,
   "id": "d66cfb90-eed5-4ff0-9e0c-f19088c3181c",
   "metadata": {},
   "outputs": [],
   "source": [
    "urls = [\n",
    "    'https://www.youtube.com/@RanveerAllahbadia/videos'\n",
    "]"
   ]
  },
  {
   "cell_type": "code",
   "execution_count": 3,
   "id": "ff401b39-fab1-466f-8997-de1ff97d50f5",
   "metadata": {},
   "outputs": [],
   "source": [
    "times = 0\n",
    "row = 0\n",
    "t = v = d = u = []\n",
    "service = Service('C:\\SeleniumDrivers\\chromedriver.exe')\n",
    "driver = webdriver.Chrome(service = service)\n",
    "\n",
    "for url in urls:\n",
    "    driver.get('{}/videos?view=0&sort=p&flow=grid'.format(url))\n",
    "    while times<5:\n",
    "        time.sleep(1)\n",
    "        driver.execute_script(\"window.scrollTo(0, document.documentElement.scrollHeight);\")\n",
    "        times += 1\n",
    "    content = driver.page_source.encode('utf-8').strip()\n",
    "    soup = BeautifulSoup(content, 'html.parser')"
   ]
  },
  {
   "cell_type": "code",
   "execution_count": 4,
   "id": "5ef03306-d12d-4178-983c-6749d3c32108",
   "metadata": {},
   "outputs": [],
   "source": [
    "titles = soup.findAll('a', id='video-title-link')\n",
    "t = []\n",
    "for i in titles:\n",
    "    t.append(i.text)\n",
    "\n",
    "views = soup.findAll('span', class_='inline-metadata-item style-scope ytd-video-meta-block')\n",
    "v = []\n",
    "count = 0\n",
    "for i in range(len(views)):\n",
    "    if i%2 == 0:\n",
    "        v.append(views[i].text)\n",
    "    else:\n",
    "        continue\n",
    "\n",
    "duration = soup.findAll('span', class_='style-scope ytd-thumbnail-overlay-time-status-renderer')\n",
    "d = []\n",
    "for i in duration:\n",
    "    d.append(i.text)\n",
    "\n",
    "vdo_urls = soup.findAll('a', id='video-title-link')\n",
    "u = [f\"https://www.youtube.com{el['href']}\" for el in vdo_urls]"
   ]
  },
  {
   "cell_type": "code",
   "execution_count": 5,
   "id": "8c4c2e58-29d6-4b7c-b5a1-4e1677620f67",
   "metadata": {},
   "outputs": [
    {
     "name": "stdout",
     "output_type": "stream",
     "text": [
      "['\\n    1:20:25\\n  ', '\\n    1:20:25\\n  ', '\\n    1:23:15\\n  ', '\\n    1:23:15\\n  ', '\\n    1:49:53\\n  ', '\\n    1:49:53\\n  ', '\\n    1:16:12\\n  ', '\\n    1:16:12\\n  ', '\\n    1:10:59\\n  ', '\\n    1:10:59\\n  ', '\\n    1:57:15\\n  ', '\\n    1:57:15\\n  ', '\\n    1:04:30\\n  ', '\\n    1:04:30\\n  ', '\\n    1:12:59\\n  ', '\\n    1:12:59\\n  ', '\\n    1:17:00\\n  ', '\\n    1:17:00\\n  ', '\\n    1:22:05\\n  ', '\\n    1:22:05\\n  ', '\\n    26:16\\n  ', '\\n    26:16\\n  ', '\\n    1:09:28\\n  ', '\\n    1:09:28\\n  ', '\\n    1:23:49\\n  ', '\\n    1:23:49\\n  ', '\\n    1:56:01\\n  ', '\\n    1:56:01\\n  ', '\\n    57:18\\n  ', '\\n    57:18\\n  ', '\\n    2:35:12\\n  ', '\\n    2:35:12\\n  ', '\\n    1:36:51\\n  ', '\\n    1:36:51\\n  ', '\\n    1:22:52\\n  ', '\\n    1:22:52\\n  ', '\\n    1:06:36\\n  ', '\\n    1:06:36\\n  ', '\\n    58:24\\n  ', '\\n    58:24\\n  ', '\\n    1:19:13\\n  ', '\\n    1:19:13\\n  ', '\\n    1:41:48\\n  ', '\\n    1:41:48\\n  ', '\\n    1:37:53\\n  ', '\\n    1:37:53\\n  ', '\\n    1:34:04\\n  ', '\\n    1:34:04\\n  ', '\\n    46:23\\n  ', '\\n    46:23\\n  ', '\\n    2:17:09\\n  ', '\\n    2:17:09\\n  ', '\\n    1:58:03\\n  ', '\\n    1:58:03\\n  ', '\\n    1:41:55\\n  ', '\\n    1:41:55\\n  ', '\\n    1:35:27\\n  ', '\\n    1:35:27\\n  ', '\\n    55:48\\n  ', '\\n    55:48\\n  ', '\\n    1:09:57\\n  ', '\\n    1:09:57\\n  ', '\\n    1:02:52\\n  ', '\\n    1:02:52\\n  ', '\\n    1:08:17\\n  ', '\\n    1:08:17\\n  ', '\\n    1:15:14\\n  ', '\\n    1:15:14\\n  ', '\\n    1:08:02\\n  ', '\\n    1:08:02\\n  ', '\\n    2:25:37\\n  ', '\\n    2:25:37\\n  ', '\\n    58:04\\n  ', '\\n    58:04\\n  ', '\\n    48:06\\n  ', '\\n    48:06\\n  ', '\\n    1:12:50\\n  ', '\\n    1:12:50\\n  ', '\\n    1:10:17\\n  ', '\\n    1:10:17\\n  ', '\\n    1:19:58\\n  ', '\\n    1:19:58\\n  ', '\\n    1:27:24\\n  ', '\\n    1:27:24\\n  ', '\\n    52:20\\n  ', '\\n    52:20\\n  ', '\\n    59:56\\n  ', '\\n    59:56\\n  ', '\\n    45:18\\n  ', '\\n    45:18\\n  ', '\\n    1:46:55\\n  ', '\\n    1:46:55\\n  ', '\\n    1:33:02\\n  ', '\\n    1:33:02\\n  ', '\\n    2:21:40\\n  ', '\\n    2:21:40\\n  ', '\\n    15:03\\n  ', '\\n    15:03\\n  ', '\\n    1:30:42\\n  ', '\\n    1:30:42\\n  ', '\\n    1:10:59\\n  ', '\\n    1:10:59\\n  ', '\\n    1:27:18\\n  ', '\\n    1:27:18\\n  ', '\\n    8:04\\n  ', '\\n    8:04\\n  ', '\\n    1:12:25\\n  ', '\\n    1:12:25\\n  ', '\\n    55:57\\n  ', '\\n    55:57\\n  ', '\\n    59:32\\n  ', '\\n    59:32\\n  ', '\\n    1:37:47\\n  ', '\\n    1:37:47\\n  ', '\\n    1:27:28\\n  ', '\\n    1:27:28\\n  ', '\\n    1:08:47\\n  ', '\\n    1:08:47\\n  ', '\\n    1:14:32\\n  ', '\\n    1:14:32\\n  ', '\\n    1:39:57\\n  ', '\\n    1:39:57\\n  ', '\\n    1:03:02\\n  ', '\\n    1:03:02\\n  ', '\\n    1:11:32\\n  ', '\\n    1:11:32\\n  ', '\\n    1:28:58\\n  ', '\\n    1:28:58\\n  ', '\\n    1:10:19\\n  ', '\\n    1:10:19\\n  ', '\\n    1:50:29\\n  ', '\\n    1:50:29\\n  ', '\\n    1:00:51\\n  ', '\\n    1:00:51\\n  ', '\\n    1:48:45\\n  ', '\\n    1:48:45\\n  ', '\\n    1:33:47\\n  ', '\\n    1:33:47\\n  ', '\\n    1:11:59\\n  ', '\\n    1:11:59\\n  ', '\\n    1:08:15\\n  ', '\\n    1:08:15\\n  ', '\\n    1:25:27\\n  ', '\\n    1:25:27\\n  ', '\\n    1:42:25\\n  ', '\\n    1:42:25\\n  ', '\\n    1:44:26\\n  ', '\\n    1:44:26\\n  ', '\\n    6:59\\n  ', '\\n    6:59\\n  ', '\\n    56:30\\n  ', '\\n    56:30\\n  ', '\\n    3:52\\n  ', '\\n    3:52\\n  ', '\\n    1:44:21\\n  ', '\\n    1:44:21\\n  ', '\\n    1:18:52\\n  ', '\\n    1:18:52\\n  ', '\\n    44:46\\n  ', '\\n    44:46\\n  ', '\\n    1:33:07\\n  ', '\\n    1:33:07\\n  ', '\\n    2:04:57\\n  ', '\\n    2:04:57\\n  ', '\\n    1:22:02\\n  ', '\\n    1:22:02\\n  ', '\\n    3:10\\n  ', '\\n    3:10\\n  ', '\\n    1:21:24\\n  ', '\\n    1:21:24\\n  ', '\\n    1:04:54\\n  ', '\\n    1:04:54\\n  ', '\\n    1:55:21\\n  ', '\\n    1:55:21\\n  ', '\\n    1:50:54\\n  ', '\\n    1:50:54\\n  ', '\\n    1:07:04\\n  ', '\\n    1:07:04\\n  ', '\\n    1:25:41\\n  ', '\\n    1:25:41\\n  ', '\\n    2:34:08\\n  ', '\\n    2:34:08\\n  ', '\\n    1:50\\n  ', '\\n    1:50\\n  ', '\\n    1:19:21\\n  ', '\\n    1:19:21\\n  ', '\\n    43:22\\n  ', '\\n    43:22\\n  ', '\\n    1:28:07\\n  ', '\\n    1:28:07\\n  ', '\\n    1:39:35\\n  ', '\\n    1:39:35\\n  ', '\\n    1:02:16\\n  ', '\\n    1:02:16\\n  ', '\\n    25:57\\n  ', '\\n    25:57\\n  ', '\\n    1:23:51\\n  ', '\\n    1:23:51\\n  ', '\\n    1:08:21\\n  ', '\\n    1:08:21\\n  ', '\\n    1:18:05\\n  ', '\\n    1:18:05\\n  ', '\\n    59:39\\n  ', '\\n    59:39\\n  ', '\\n    1:16:34\\n  ', '\\n    1:16:34\\n  ', '\\n    1:17:41\\n  ', '\\n    1:17:41\\n  ', '\\n    1:48:46\\n  ', '\\n    1:48:46\\n  ', '\\n    41:22\\n  ', '\\n    41:22\\n  ', '\\n    52:20\\n  ', '\\n    52:20\\n  ', '\\n    51:31\\n  ', '\\n    51:31\\n  ', '\\n    36:53\\n  ', '\\n    36:53\\n  ', '\\n    4:56\\n  ', '\\n    4:56\\n  ', '\\n    1:15:01\\n  ', '\\n    1:15:01\\n  ', '\\n    5:24\\n  ', '\\n    5:24\\n  ', '\\n    1:39:36\\n  ', '\\n    1:39:36\\n  ', '\\n    53:35\\n  ', '\\n    53:35\\n  ', '\\n    1:33:47\\n  ', '\\n    1:33:47\\n  ', '\\n    6:01\\n  ', '\\n    6:01\\n  ', '\\n    1:20:57\\n  ', '\\n    1:20:57\\n  ', '\\n    55:37\\n  ', '\\n    55:37\\n  ', '\\n    7:26\\n  ', '\\n    7:26\\n  ', '\\n    1:47:19\\n  ', '\\n    1:47:19\\n  ', '\\n    1:50:38\\n  ', '\\n    1:50:38\\n  ', '\\n    3:58\\n  ', '\\n    3:58\\n  ', '\\n    40:38\\n  ', '\\n    40:38\\n  ', '\\n    30:43\\n  ', '\\n    30:43\\n  ', '\\n    1:08:58\\n  ', '\\n    1:08:58\\n  ', '\\n    1:26:54\\n  ', '\\n    1:26:54\\n  ', '\\n    1:05:10\\n  ', '\\n    1:05:10\\n  ', '\\n    1:34:45\\n  ', '\\n    1:34:45\\n  ', '\\n    1:29:33\\n  ', '\\n    1:29:33\\n  ', '\\n    1:30:46\\n  ', '\\n    1:30:46\\n  ', '\\n    1:17:53\\n  ', '\\n    1:17:53\\n  ', '\\n    1:21:10\\n  ', '\\n    1:21:10\\n  ', '\\n    1:08:13\\n  ', '\\n    1:08:13\\n  ', '\\n    1:26:29\\n  ', '\\n    1:26:29\\n  ', '\\n    1:30:47\\n  ', '\\n    1:30:47\\n  ', '\\n    1:22:50\\n  ', '\\n    1:22:50\\n  ', '\\n    1:33:05\\n  ', '\\n    1:33:05\\n  ', '\\n    1:39:27\\n  ', '\\n    1:39:27\\n  ', '\\n    1:19:19\\n  ', '\\n    1:19:19\\n  ', '\\n    1:52:38\\n  ', '\\n    1:52:38\\n  ', '\\n    1:30:03\\n  ', '\\n    1:30:03\\n  ', '\\n    1:46:49\\n  ', '\\n    1:46:49\\n  ', '\\n    1:06:53\\n  ', '\\n    1:06:53\\n  ', '\\n    10:12\\n  ', '\\n    10:12\\n  ', '\\n    1:34:52\\n  ', '\\n    1:34:52\\n  ', '\\n    46:25\\n  ', '\\n    46:25\\n  ', '\\n    46:48\\n  ', '\\n    46:48\\n  ', '\\n    10:23\\n  ', '\\n    10:23\\n  ', '\\n    1:49:46\\n  ', '\\n    1:49:46\\n  ', '\\n    10:51\\n  ', '\\n    10:51\\n  ']\n"
     ]
    }
   ],
   "source": [
    "print(d)"
   ]
  },
  {
   "cell_type": "code",
   "execution_count": 6,
   "id": "15b2748d-2fbd-4bb8-8059-bea09ed00b6b",
   "metadata": {},
   "outputs": [
    {
     "name": "stdout",
     "output_type": "stream",
     "text": [
      "150 150 300 150\n"
     ]
    }
   ],
   "source": [
    "print(len(t), len(v), len(d), len(u))"
   ]
  },
  {
   "cell_type": "code",
   "execution_count": 7,
   "id": "b2a25fde-b73b-4fc9-9668-bb34b9d0bd2a",
   "metadata": {},
   "outputs": [],
   "source": [
    "min_length = min(len(t), len(v), len(d), len(u))\n",
    "\n",
    "# Truncate all lists to the minimum length\n",
    "t = t[:min_length]\n",
    "v = v[:min_length]\n",
    "d = d[:min_length]\n",
    "u = u[:min_length]"
   ]
  },
  {
   "cell_type": "code",
   "execution_count": 8,
   "id": "35120efe-b215-4180-9810-9237f8cfc339",
   "metadata": {},
   "outputs": [
    {
     "name": "stdout",
     "output_type": "stream",
     "text": [
      "150 150 150 150\n"
     ]
    }
   ],
   "source": [
    "print(len(t), len(v), len(d), len(u))"
   ]
  },
  {
   "cell_type": "code",
   "execution_count": 9,
   "id": "432b39c6-bac2-4f71-8a16-fcc421debc5c",
   "metadata": {},
   "outputs": [],
   "source": [
    "workbook = xlsxwriter.Workbook('myfile.xlsx')\n",
    "worksheet = workbook.add_worksheet()\n",
    "\n",
    "worksheet.write(0, 0, \"Title\") # row column\n",
    "worksheet.write(0, 1, \"Views\")\n",
    "worksheet.write(0, 2, \"Duration\")\n",
    "worksheet.write(0, 3, \"Video link\")\n",
    "\n",
    "row = 1\n",
    "for title, view, dura, link in zip(t,v,d,u):\n",
    "    worksheet.write(row, 0, title)\n",
    "    worksheet.write(row, 1, view)\n",
    "    worksheet.write(row, 2, dura)\n",
    "    worksheet.write(row, 3, link)\n",
    "    row += 1\n",
    "\n",
    "workbook.close()"
   ]
  },
  {
   "cell_type": "code",
   "execution_count": null,
   "id": "264708fd-bb85-4665-9d3e-b334f906f585",
   "metadata": {},
   "outputs": [],
   "source": []
  }
 ],
 "metadata": {
  "kernelspec": {
   "display_name": "Python 3 (ipykernel)",
   "language": "python",
   "name": "python3"
  },
  "language_info": {
   "codemirror_mode": {
    "name": "ipython",
    "version": 3
   },
   "file_extension": ".py",
   "mimetype": "text/x-python",
   "name": "python",
   "nbconvert_exporter": "python",
   "pygments_lexer": "ipython3",
   "version": "3.11.9"
  }
 },
 "nbformat": 4,
 "nbformat_minor": 5
}
